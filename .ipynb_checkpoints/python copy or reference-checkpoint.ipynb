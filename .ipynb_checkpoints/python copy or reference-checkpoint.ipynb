{
 "cells": [
  {
   "cell_type": "markdown",
   "metadata": {},
   "source": [
    "# Python concepts: indexing and assigning"
   ]
  },
  {
   "cell_type": "markdown",
   "metadata": {},
   "source": [
    "## Assigning\n",
    "When saying copying, it is actually copying the element in a list which itself is also a reference to some more basic object. So copying is actullay make the two variable referencing the same object and referencing is making chained referencing  \n",
    "**Remember everything in python is object or reference**"
   ]
  },
  {
   "cell_type": "markdown",
   "metadata": {},
   "source": [
    "### list\n",
    "\n",
    "`list2 = list1`  \n",
    "reference the same list, any change in list2 will affect list1  \n",
    " \n",
    "`list2 = list(list1)` or  `list = list1[:]`  \n",
    "copy the elements of list1, list1 will keep intact when list2 changes  \n",
    "\n",
    "These two methods, however, have limitations with collections of **mutable** objects as inner objects keep their references intact\n"
   ]
  },
  {
   "cell_type": "code",
   "execution_count": 1,
   "metadata": {},
   "outputs": [
    {
     "name": "stdout",
     "output_type": "stream",
     "text": [
      "a: [[1, 2, 9], [3], [4]]\n",
      "b: [[1, 2, 9], [3], [4]]\n",
      "c: [[1, 2, 9], [3], [4]]\n"
     ]
    }
   ],
   "source": [
    "a = [[1,2],[3],[4]]\n",
    "\n",
    "b = a[:]\n",
    "c = list(a)\n",
    "\n",
    "c[0].append(9)\n",
    "\n",
    "print('a: {}'.format(a))\n",
    "print('b: {}'.format(b))\n",
    "print('c: {}'.format(c))"
   ]
  },
  {
   "cell_type": "markdown",
   "metadata": {},
   "source": [
    "For a full copy of a list object, use deep copy"
   ]
  },
  {
   "cell_type": "code",
   "execution_count": 2,
   "metadata": {},
   "outputs": [
    {
     "name": "stdout",
     "output_type": "stream",
     "text": [
      "a: [[1, 2], [3], [4]]\n",
      "b: [[1, 2], [3], [4]]\n",
      "c: [[1, 2, 9], [3], [4]]\n"
     ]
    }
   ],
   "source": [
    "from copy import deepcopy\n",
    "a = [[1,2],[3],[4]]\n",
    "\n",
    "b = a[:]\n",
    "c = deepcopy(a)\n",
    "\n",
    "c[0].append(9)\n",
    "\n",
    "print('a: {}'.format(a))\n",
    "print('b: {}'.format(b))\n",
    "print('c: {}'.format(c))\n"
   ]
  },
  {
   "cell_type": "code",
   "execution_count": 3,
   "metadata": {},
   "outputs": [
    {
     "name": "stdout",
     "output_type": "stream",
     "text": [
      "[['k', 2], [3], [4]]\n"
     ]
    }
   ],
   "source": [
    "a = [[1,2],[3],[4]]\n",
    "a[0][0] = 'k'\n",
    "print(a)"
   ]
  },
  {
   "cell_type": "markdown",
   "metadata": {},
   "source": [
    "## Indexing"
   ]
  },
  {
   "cell_type": "markdown",
   "metadata": {},
   "source": [
    "### List  \n",
    "indexing in a list is similar as in C, but multiple indexing is supported. List indices must be **integers** or **slices**, not *tuple* or *list*\n"
   ]
  },
  {
   "cell_type": "code",
   "execution_count": 4,
   "metadata": {},
   "outputs": [
    {
     "name": "stdout",
     "output_type": "stream",
     "text": [
      "1\n",
      "[[1, 2], [3]]\n"
     ]
    }
   ],
   "source": [
    "a = [[1,2],[3],[4]]\n",
    "\n",
    "print(a[0][0])\n",
    "print(a[0:2])\n",
    "# print(a[0:2, :])  -- WRONG \n",
    "\n",
    "# print(a[0,0]) -- WRONG tuple  -- x[(exp1, exp2, ..., expN)] is equivalent to x[exp1, exp2, ..., expN]\n",
    "# print(a[[0,1]]) -- WRONG list"
   ]
  },
  {
   "cell_type": "markdown",
   "metadata": {},
   "source": [
    "Be careful when indexing using slices: there is no 'array index out of bound' like warnings when the slices are bigger than the array indexing space"
   ]
  },
  {
   "cell_type": "code",
   "execution_count": 5,
   "metadata": {},
   "outputs": [
    {
     "name": "stdout",
     "output_type": "stream",
     "text": [
      "[[1, 2], [3], [4]]\n"
     ]
    }
   ],
   "source": [
    "print(a[0:100])"
   ]
  },
  {
   "cell_type": "markdown",
   "metadata": {},
   "source": [
    "### Numpy array"
   ]
  },
  {
   "cell_type": "markdown",
   "metadata": {
    "collapsed": true
   },
   "source": [
    "ndarrays can be indexed using x[obj] syntax, where x is the array and obj the selection.\n",
    "\n",
    "- Field access (x['field-name'] used in structured array, not talked about in this summary)\n",
    "- basic slicing: slicing obj start:stop:step    -- views of original array\n",
    "- advanced indexing:  \n",
    "    -Integer array indexing  \n",
    "    -Boolean array indexing"
   ]
  },
  {
   "cell_type": "code",
   "execution_count": 6,
   "metadata": {},
   "outputs": [
    {
     "name": "stdout",
     "output_type": "stream",
     "text": [
      "[[3, 4] 6 8]\n",
      "[8 9]\n",
      "[7]\n"
     ]
    }
   ],
   "source": [
    "import numpy as np\n",
    "x = np.array([[0, 1, 2],[ 3, 4], 5, 6, 7, 8, 9])\n",
    "print(x[1::2])\n",
    "\n",
    "# negative i is interpreted as n+i where n is the number of elements\n",
    "print(x[-2:10])\n",
    "\n",
    "print(x[-3:3:-1])\n"
   ]
  },
  {
   "cell_type": "markdown",
   "metadata": {},
   "source": [
    "Use of ellipsis and newaxis object:  \n",
    "ellipsis expand to the number of :objects needed to make a selection tuple of the same length as x.ndim\n",
    "newaxis expand the dim to the returned place\n",
    "\n",
    "And the difference of slicing and single integer indexing"
   ]
  },
  {
   "cell_type": "code",
   "execution_count": 7,
   "metadata": {},
   "outputs": [
    {
     "name": "stdout",
     "output_type": "stream",
     "text": [
      "(2, 3, 1)\n",
      "[[[1]\n",
      "  [2]\n",
      "  [3]]\n",
      "\n",
      " [[4]\n",
      "  [5]\n",
      "  [6]]]\n",
      "----------\n",
      "Be extrelly careful with dim diff between slicing and integer indexing\n",
      "[[[4]\n",
      "  [5]\n",
      "  [6]]]\n",
      "\n",
      "[[4]\n",
      " [5]\n",
      " [6]]\n",
      "\n",
      "\n",
      " ellipsis\n",
      "[[1 2 3]\n",
      " [4 5 6]]\n",
      "[[1 2 3]\n",
      " [4 5 6]]\n",
      "\n",
      " add a new axis:\n",
      "[[[[1]\n",
      "   [2]\n",
      "   [3]]]\n",
      "\n",
      "\n",
      " [[[4]\n",
      "   [5]\n",
      "   [6]]]]\n",
      "(2, 1, 3, 1)\n",
      "repeated\n",
      "[[4]\n",
      " [5]\n",
      " [6]]\n",
      "[[4]\n",
      " [5]\n",
      " [6]]\n",
      "[[[4]\n",
      "  [5]\n",
      "  [6]]]\n"
     ]
    }
   ],
   "source": [
    " x = np.array([[[1],[2],[3]], [[4],[5],[6]]])\n",
    "print(x.shape)\n",
    "print(x)\n",
    "print('----------')\n",
    "\n",
    "# : is assumed for non sliced dim\n",
    "print('Be extrelly careful with dim diff between slicing and integer indexing')\n",
    "print(x[1:]) # equivalent to x[1:,]\n",
    "print()\n",
    "print(x[1])\n",
    "print()\n",
    "\n",
    "# an ellipsis object, can only be added once in indexing\n",
    "print('\\n ellipsis')\n",
    "print(x[...,0]) # equilvant to\n",
    "print(x[:,:, 0])\n",
    "\n",
    "\n",
    "# add newaxis\n",
    "print('\\n add a new axis:')\n",
    "print(x[:,np.newaxis,:,:])\n",
    "print(x[:,np.newaxis,:,:].shape)\n",
    "\n",
    "# repeated application of slicing using a single non-: entries\n",
    "\n",
    "print('repeated')\n",
    "print(x[1][:]) \n",
    "print(x[1, :]) # equivalent\n",
    "print(x[1:, :])# NOT equivalent"
   ]
  },
  {
   "cell_type": "markdown",
   "metadata": {},
   "source": [
    "#### Advanced indexing in numpy  returns a copy instead of a view\n",
    " \n",
    "when x[obj] obj is a non-tuple sequence object  `x[(1,2,3),]`   !! Basic: `x[(1,2,3)] = x[1,2,3]`  \n",
    "an ndarray (dtype integer or bool)  `x[[1,2,3]]`        !! Basic: `x[[1,2,slice(None)]]`  \n",
    "or a tuple with at least one sequence object or ndarray (integer or bool)  \n",
    "<br>\n",
    "\n",
    "To be short, it is basic indexing if obj contains only one tuple or looks like no tuple (x[(1,2,3)] is syntax sugar of x[1,2,3])"
   ]
  },
  {
   "cell_type": "code",
   "execution_count": 8,
   "metadata": {},
   "outputs": [
    {
     "name": "stdout",
     "output_type": "stream",
     "text": [
      "a basic indexing\n",
      "[2]\n",
      "[2]\n",
      "2\n",
      "an advanced indexing\n",
      "[[[1]\n",
      "  [2]\n",
      "  [3]]\n",
      "\n",
      " [[4]\n",
      "  [5]\n",
      "  [6]]]\n",
      "another basic indexing\n",
      "[4]\n",
      "another anvanced indexing\n",
      "[[[4]\n",
      "  [5]\n",
      "  [6]]\n",
      "\n",
      " [[1]\n",
      "  [2]\n",
      "  [3]]]\n"
     ]
    }
   ],
   "source": [
    "x = np.array([[[1],[2],[3]], [[4],[5],[6]]])\n",
    "print('a basic indexing')\n",
    "print(x[(0,1)])\n",
    "print(x[0][1])\n",
    "print(x[0,1,0])\n",
    "print('an advanced indexing')\n",
    "print(x[[0,1]])\n",
    "\n",
    "print('another basic indexing')\n",
    "print(x[[1,0,slice(None)]])\n",
    "print('another anvanced indexing')\n",
    "print(x[[(1,0),slice(None)]])"
   ]
  },
  {
   "cell_type": "markdown",
   "metadata": {},
   "source": [
    "numpy broadcasting(adjust the shape so that array of different shapes can be operated on) achieved by using ix_  \n",
    "x[np.ix_(rows, columns)]\n"
   ]
  },
  {
   "cell_type": "code",
   "execution_count": 9,
   "metadata": {},
   "outputs": [
    {
     "name": "stdout",
     "output_type": "stream",
     "text": [
      "[[ 0  2]\n",
      " [ 9 11]]\n"
     ]
    }
   ],
   "source": [
    "x = np.array([[ 0,  1,  2],\n",
    "            [ 3,  4,  5],\n",
    "            [ 6,  7,  8],\n",
    "            [ 9, 10, 11]])\n",
    "rows = np.array([[0, 0],\n",
    "                 [3, 3]], dtype=np.intp)\n",
    "\n",
    "columns = np.array([[0, 2],\n",
    "                    [0, 2]], dtype=np.intp)\n",
    "print(x[rows, columns])\n"
   ]
  },
  {
   "cell_type": "code",
   "execution_count": 17,
   "metadata": {},
   "outputs": [
    {
     "name": "stdout",
     "output_type": "stream",
     "text": [
      "No adjustment in row and column shape\n",
      "[ 0 11]\n",
      "use np.newaxis to row and broadcasting will be applied to columns\n",
      "rows: [[0]\n",
      " [3]]\n",
      "[[ 0  2]\n",
      " [ 9 11]]\n",
      "using ix_ function\n",
      "[[ 0  2]\n",
      " [ 9 11]]\n"
     ]
    }
   ],
   "source": [
    "rows = np.array([0, 3], dtype=np.intp)\n",
    "columns = np.array([0, 2], dtype=np.intp)\n",
    "\n",
    "print('No adjustment in row and column shape')\n",
    "print(x[rows, columns])\n",
    "\n",
    "print('use np.newaxis to row and broadcasting will be applied to columns')# （compare operations such as rows[:, np.newaxis] + columns)）\n",
    "print('rows: {}'.format(rows[:, np.newaxis]))\n",
    "print(x[rows[:, np.newaxis], columns])\n",
    "\n",
    "\n",
    "print('using ix_ function')\n",
    "print(x[np.ix_(rows, columns)])\n"
   ]
  },
  {
   "cell_type": "markdown",
   "metadata": {},
   "source": [
    "\n",
    "x.flat returns a 1-dimensional view, returns an iterator that will iterate over the entire array (in C-contiguous style with the last index varying the fastest)"
   ]
  },
  {
   "cell_type": "markdown",
   "metadata": {},
   "source": [
    "\n",
    "### Python pandas dataframe\n",
    "`loc  iloc  ix  `  \n",
    "are indexing methods, which you should use when performing indexing in both rows and columns, like `list[0][0]`  \n",
    "They support indexing of list, slices and label/integer"
   ]
  },
  {
   "cell_type": "code",
   "execution_count": 11,
   "metadata": {
    "collapsed": true
   },
   "outputs": [],
   "source": [
    "import pandas as pd\n"
   ]
  },
  {
   "cell_type": "code",
   "execution_count": 12,
   "metadata": {},
   "outputs": [
    {
     "name": "stdout",
     "output_type": "stream",
     "text": [
      "df_initial:\n",
      "   col1  col2\n",
      "0    a     1\n",
      "1    b     2\n",
      "2    c     3\n",
      "\n",
      "df_after:\n",
      "   col1  col2\n",
      "0    a     1\n",
      "1    d     2\n",
      "2    c     3\n",
      "\n"
     ]
    }
   ],
   "source": [
    "df = pd.DataFrame({'col1': ['a', 'b', 'c'],\n",
    "                  'col2': [1, 2, 3]})\n",
    "\n",
    "print('df_initial:\\n {}\\n'.format(df))\n",
    "df.loc[1, 'col1'] = 'd'\n",
    "print('df_after:\\n {}\\n'.format(df))"
   ]
  },
  {
   "cell_type": "code",
   "execution_count": 13,
   "metadata": {},
   "outputs": [
    {
     "name": "stdout",
     "output_type": "stream",
     "text": [
      "  col1  col2\n",
      "0    a     1\n",
      "1    d     2\n"
     ]
    }
   ],
   "source": [
    "# indexing using list and slices\n",
    "print(df.loc[[0,1],'col1':'col2'])\n"
   ]
  },
  {
   "cell_type": "code",
   "execution_count": 14,
   "metadata": {},
   "outputs": [
    {
     "name": "stdout",
     "output_type": "stream",
     "text": [
      "0    a\n",
      "1    d\n",
      "Name: col1, dtype: object\n",
      "\n",
      "  col1  col2\n",
      "0    a     1\n",
      "1    d     2\n",
      "None\n"
     ]
    }
   ],
   "source": [
    "# indexing using tuples is wierd which it returns object?????\n",
    "print(df.loc[0:1, ('col1')])\n",
    "print()\n",
    "print(print(df.loc[0:1, ('col1','col2')]))"
   ]
  },
  {
   "cell_type": "markdown",
   "metadata": {},
   "source": [
    "**Careful! Returning a view versus a copy**\n",
    "When setting values in a pandas object, care must be taken to avoid what is called **chained indexing**."
   ]
  },
  {
   "cell_type": "code",
   "execution_count": 15,
   "metadata": {},
   "outputs": [
    {
     "name": "stdout",
     "output_type": "stream",
     "text": [
      "df_initial:\n",
      "   col1  col2\n",
      "0    a     1\n",
      "1    b     2\n",
      "2    c     3\n",
      "\n",
      "df_after:\n",
      "   col1  col2\n",
      "0    d     1\n",
      "1    b     2\n",
      "2    c     3\n",
      "\n"
     ]
    },
    {
     "name": "stderr",
     "output_type": "stream",
     "text": [
      "C:\\Program Files\\Anaconda3\\lib\\site-packages\\ipykernel_launcher.py:6: SettingWithCopyWarning: \n",
      "A value is trying to be set on a copy of a slice from a DataFrame\n",
      "\n",
      "See the caveats in the documentation: http://pandas.pydata.org/pandas-docs/stable/indexing.html#indexing-view-versus-copy\n",
      "  \n"
     ]
    }
   ],
   "source": [
    "\n",
    "df = pd.DataFrame({'col1': ['a', 'b', 'c'],\n",
    "                  'col2': [1, 2, 3]})\n",
    "\n",
    "print('df_initial:\\n {}\\n'.format(df))\n",
    "df['col1'][0] = 'd'  # pandas cannot guarantee the behavior: whether the vaule will be successfully set\n",
    "\n",
    "print('df_after:\\n {}\\n'.format(df))\n",
    "\n",
    "\n"
   ]
  },
  {
   "cell_type": "markdown",
   "metadata": {},
   "source": [
    "`df.loc[:,('one','second')]` passes a nested tuple of (slice(None),('one','second')) to a single call to __getitem__. This allows pandas to deal with this as a single entity."
   ]
  },
  {
   "cell_type": "code",
   "execution_count": 16,
   "metadata": {},
   "outputs": [
    {
     "name": "stderr",
     "output_type": "stream",
     "text": [
      "C:\\Program Files\\Anaconda3\\lib\\site-packages\\ipykernel_launcher.py:17: SettingWithCopyWarning: \n",
      "A value is trying to be set on a copy of a slice from a DataFrame.\n",
      "Try using .loc[row_indexer,col_indexer] = value instead\n",
      "\n",
      "See the caveats in the documentation: http://pandas.pydata.org/pandas-docs/stable/indexing.html#indexing-view-versus-copy\n",
      "C:\\Program Files\\Anaconda3\\lib\\site-packages\\ipykernel_launcher.py:19: SettingWithCopyWarning: \n",
      "A value is trying to be set on a copy of a slice from a DataFrame.\n",
      "Try using .loc[row_indexer,col_indexer] = value instead\n",
      "\n",
      "See the caveats in the documentation: http://pandas.pydata.org/pandas-docs/stable/indexing.html#indexing-view-versus-copy\n"
     ]
    }
   ],
   "source": [
    "# An example from documents\n",
    "dfmi = pd.DataFrame([list('abcd'),\n",
    "                       list('efgh'),\n",
    "                        list('ijkl'),\n",
    "                         list('mnop')],\n",
    "                       columns=pd.MultiIndex.from_product([['one','two'],\n",
    "                                                          ['first','second']]))\n",
    "   \n",
    "\n",
    "value=2\n",
    "\n",
    "dfmi.loc[:,('one','second')] = value\n",
    "# becomes\n",
    "dfmi.loc.__setitem__((slice(None), ('one', 'second')), value)\n",
    "\n",
    "\n",
    "dfmi['one']['second'] = value\n",
    "# becomes\n",
    "dfmi.__getitem__('one').__setitem__('second', value)\n"
   ]
  },
  {
   "cell_type": "markdown",
   "metadata": {},
   "source": [
    "Outside of simple cases, it’s very hard to predict whether it will return a view or a copy (it depends on the memory layout of the array, about which pandas makes no guarantees), and therefore whether the __setitem__ will modify dfmi or a temporary object that gets thrown out immediately afterward. \n",
    "\n",
    "\n",
    "But dfmi.loc is guaranteed to be dfmi itself with modified indexing behavior, so dfmi.loc.__getitem__ / dfmi.loc.__setitem__ operate on dfmi directly. Of course, dfmi.loc.__getitem__(idx) may be a view or a copy of dfmi.\n",
    " "
   ]
  }
 ],
 "metadata": {
  "kernelspec": {
   "display_name": "Python 3",
   "language": "python",
   "name": "python3"
  },
  "language_info": {
   "codemirror_mode": {
    "name": "ipython",
    "version": 3
   },
   "file_extension": ".py",
   "mimetype": "text/x-python",
   "name": "python",
   "nbconvert_exporter": "python",
   "pygments_lexer": "ipython3",
   "version": "3.6.1"
  }
 },
 "nbformat": 4,
 "nbformat_minor": 2
}
